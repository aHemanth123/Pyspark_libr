{
 "cells": [
  {
   "cell_type": "markdown",
   "metadata": {},
   "source": [
    "Pivot() --> used for spliting up using grouBy"
   ]
  },
  {
   "cell_type": "code",
   "execution_count": null,
   "metadata": {},
   "outputs": [],
   "source": [
    "from pyspark.sql import SparkSession \n",
    "spark = SparkSession.builder.getOrCreate()\n",
    "data =[(1,'md','m',30),\n",
    "       (2,'md','m',50),\n",
    "       (3,'gg','f',3),\n",
    "       (4,'prin','m',40),\n",
    "       (5,'md','f',30),\n",
    "       ]\n",
    "sch =   ['id','name','gender','sal']"
   ]
  }
 ],
 "metadata": {
  "kernelspec": {
   "display_name": "Python 3",
   "language": "python",
   "name": "python3"
  },
  "language_info": {
   "name": "python",
   "version": "3.12.2"
  }
 },
 "nbformat": 4,
 "nbformat_minor": 2
}
