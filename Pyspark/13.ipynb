{
 "cells": [
  {
   "cell_type": "code",
   "execution_count": 3,
   "metadata": {},
   "outputs": [
    {
     "name": "stdout",
     "output_type": "stream",
     "text": [
      "root\n",
      " |-- id: string (nullable = true)\n",
      " |-- numbers: array (nullable = true)\n",
      " |    |-- element: long (containsNull = true)\n",
      "\n"
     ]
    }
   ],
   "source": [
    "from pyspark.sql import SparkSession\n",
    "spark = SparkSession.builder.appName('ex').getOrCreate()\n",
    "\n",
    "data = [('abc',[1,2]), ('bc',[3,4]) ,('d',[4,5])]  # array type \n",
    "schema = ['id','numbers']\n",
    "\n",
    "df = spark.createDataFrame(data,schema)\n",
    "df.printSchema()"
   ]
  },
  {
   "cell_type": "markdown",
   "metadata": {},
   "source": [
    "# array type "
   ]
  },
  {
   "cell_type": "code",
   "execution_count": 5,
   "metadata": {},
   "outputs": [
    {
     "name": "stdout",
     "output_type": "stream",
     "text": [
      "root\n",
      " |-- name: string (nullable = true)\n",
      " |-- arr: array (nullable = true)\n",
      " |    |-- element: integer (containsNull = true)\n",
      "\n"
     ]
    }
   ],
   "source": [
    "from pyspark.sql import SparkSession\n",
    "from pyspark.sql.types import StructType,StructField,IntegerType,StringType,ArrayType\n",
    " \n",
    "spark = SparkSession.builder.appName('ex').getOrCreate()\n",
    "\n",
    "data = [('abc',[1,2]), ('bc',[3,4]) ,('d',[4,5])]  # array type \n",
    "sch  = StructType([\n",
    "    StructField('name',StringType()),\n",
    "    StructField('arr',ArrayType(IntegerType()))\n",
    "])\n",
    "\n",
    "df = spark.createDataFrame(data,sch)  # output of element TYpe \n",
    "df.printSchema()"
   ]
  },
  {
   "cell_type": "markdown",
   "metadata": {},
   "source": [
    "# Array Type Accessing \n"
   ]
  },
  {
   "cell_type": "code",
   "execution_count": 10,
   "metadata": {},
   "outputs": [
    {
     "name": "stdout",
     "output_type": "stream",
     "text": [
      "root\n",
      " |-- name: string (nullable = true)\n",
      " |-- arr: array (nullable = true)\n",
      " |    |-- element: integer (containsNull = true)\n",
      "\n",
      "root\n",
      " |-- name: string (nullable = true)\n",
      " |-- arr: array (nullable = true)\n",
      " |    |-- element: integer (containsNull = true)\n",
      " |-- firstNumber: integer (nullable = true)\n",
      "\n"
     ]
    }
   ],
   "source": [
    "#Array Type Accessing \n",
    "\n",
    "df2 =df.withColumn('firstNumber',df.arr[0])\n",
    "df.printSchema()\n",
    "df2.printSchema() # diff of output "
   ]
  },
  {
   "cell_type": "code",
   "execution_count": 14,
   "metadata": {},
   "outputs": [
    {
     "name": "stdout",
     "output_type": "stream",
     "text": [
      "root\n",
      " |-- num1: long (nullable = true)\n",
      " |-- num2: long (nullable = true)\n",
      " |-- no: array (nullable = false)\n",
      " |    |-- element: long (containsNull = true)\n",
      "\n"
     ]
    }
   ],
   "source": [
    "# joining using array Type\n",
    "from pyspark.sql.functions import col,array\n",
    "data = [(1,2),(3,4)]\n",
    "sch =[  'num1','num2']\n",
    "df = spark.createDataFrame(data,sch)\n",
    "\n",
    "df.withColumn('no',array(  df.num1,  col('num2'))).printSchema()"
   ]
  }
 ],
 "metadata": {
  "kernelspec": {
   "display_name": "Python 3",
   "language": "python",
   "name": "python3"
  },
  "language_info": {
   "codemirror_mode": {
    "name": "ipython",
    "version": 3
   },
   "file_extension": ".py",
   "mimetype": "text/x-python",
   "name": "python",
   "nbconvert_exporter": "python",
   "pygments_lexer": "ipython3",
   "version": "3.12.2"
  }
 },
 "nbformat": 4,
 "nbformat_minor": 2
}
