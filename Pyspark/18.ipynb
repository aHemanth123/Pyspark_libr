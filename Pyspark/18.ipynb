{
 "cells": [
  {
   "cell_type": "code",
   "execution_count": 5,
   "metadata": {},
   "outputs": [
    {
     "name": "stdout",
     "output_type": "stream",
     "text": [
      "root\n",
      " |-- name: string (nullable = true)\n",
      " |-- gender: string (nullable = true)\n",
      " |-- sal: long (nullable = true)\n",
      "\n",
      "root\n",
      " |-- name: string (nullable = true)\n",
      " |-- gender: string (nullable = true)\n",
      " |-- sal: long (nullable = true)\n",
      " |-- newcol: string (nullable = false)\n",
      "\n"
     ]
    }
   ],
   "source": [
    "from pyspark.sql import SparkSession\n",
    "spark = SparkSession.builder.appName(\"ex\").getOrCreate()\n",
    "from pyspark.sql.functions  import lit \n",
    "\n",
    "data = [('maheer','male',200) ,('mar','le',00) ]\n",
    "schema = ['name','gender','sal']\n",
    "\n",
    "df = spark.createDataFrame(data,schema)\n",
    "df.printSchema()\n",
    "\n",
    "df1 =df.withColumn('newcol',lit('abcd'))\n",
    "df1.printSchema()"
   ]
  },
  {
   "cell_type": "code",
   "execution_count": 6,
   "metadata": {},
   "outputs": [
    {
     "name": "stdout",
     "output_type": "stream",
     "text": [
      "root\n",
      " |-- name: string (nullable = true)\n",
      "\n"
     ]
    }
   ],
   "source": [
    "df1.select(df1['name']).printSchema()"
   ]
  },
  {
   "cell_type": "code",
   "execution_count": 8,
   "metadata": {},
   "outputs": [
    {
     "name": "stdout",
     "output_type": "stream",
     "text": [
      "root\n",
      " |-- name: string (nullable = true)\n",
      " |-- gend: string (nullable = true)\n",
      " |-- prop: struct (nullable = true)\n",
      " |    |-- firs: string (nullable = true)\n",
      " |    |-- secon: string (nullable = true)\n",
      "\n"
     ]
    }
   ],
   "source": [
    "#acessing struct  in video 17 \n",
    "\n",
    "from pyspark.sql import Row, SparkSession\n",
    "from pyspark.sql.types import *\n",
    "\n",
    "spark = SparkSession.builder.appName(\"e\").getOrCreate()\n",
    "\n",
    "data1 = [ ( 'mah','male',('.net','azure')), ('ma','fe',('et','aws'),)\n",
    "         ]\n",
    "props1 = StructType([\n",
    "             StructField('firs',StringType()),\n",
    "             StructField('secon',StringType())\n",
    "])\n",
    "schema  = StructType([\n",
    "        StructField('name',StringType()),\n",
    "        StructField('gend',StringType()),\n",
    "        StructField('prop',props1)\n",
    "\n",
    "])\n",
    "\n",
    "df =spark.createDataFrame(data1,schema)\n",
    "df.printSchema()"
   ]
  },
  {
   "cell_type": "code",
   "execution_count": 12,
   "metadata": {},
   "outputs": [
    {
     "name": "stdout",
     "output_type": "stream",
     "text": [
      "root\n",
      " |-- prop.firs: string (nullable = true)\n",
      "\n"
     ]
    }
   ],
   "source": [
    "# acessing  struct type elements\n",
    "df1 = df.select(df.prop.firs)     # df['prop.eye']  ---->  u can use this one  or col('prop.eye')\n",
    "df1.printSchema()"
   ]
  }
 ],
 "metadata": {
  "kernelspec": {
   "display_name": "Python 3",
   "language": "python",
   "name": "python3"
  },
  "language_info": {
   "codemirror_mode": {
    "name": "ipython",
    "version": 3
   },
   "file_extension": ".py",
   "mimetype": "text/x-python",
   "name": "python",
   "nbconvert_exporter": "python",
   "pygments_lexer": "ipython3",
   "version": "3.12.2"
  }
 },
 "nbformat": 4,
 "nbformat_minor": 2
}
