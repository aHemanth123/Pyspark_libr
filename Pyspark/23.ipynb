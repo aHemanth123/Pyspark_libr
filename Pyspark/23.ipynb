{
 "cells": [
  {
   "cell_type": "code",
   "execution_count": null,
   "metadata": {},
   "outputs": [],
   "source": [
    "#order by and sort by  ---> same functions"
   ]
  },
  {
   "cell_type": "code",
   "execution_count": 6,
   "metadata": {},
   "outputs": [
    {
     "name": "stdout",
     "output_type": "stream",
     "text": [
      "root\n",
      " |-- id: long (nullable = true)\n",
      " |-- name: string (nullable = true)\n",
      " |-- gender: string (nullable = true)\n",
      " |-- sal: long (nullable = true)\n",
      "\n",
      "root\n",
      " |-- id: long (nullable = true)\n",
      " |-- name: string (nullable = true)\n",
      " |-- gender: string (nullable = true)\n",
      " |-- sal: long (nullable = true)\n",
      "\n",
      "root\n",
      " |-- id: long (nullable = true)\n",
      " |-- name: string (nullable = true)\n",
      " |-- gender: string (nullable = true)\n",
      " |-- sal: long (nullable = true)\n",
      "\n"
     ]
    }
   ],
   "source": [
    "from pyspark.sql import SparkSession\n",
    "spark = SparkSession.builder.appName(\"ex\").getOrCreate()\n",
    "data = [(1,'m',\"M\",300),\n",
    "        (2,'wa',\"M\",333),\n",
    "        (3,'asi',\"F\",555)\n",
    "        ]\n",
    "schema = ['id','name','gender','sal']\n",
    "df = spark.createDataFrame(data,schema)\n",
    "\n",
    "df.sort(df.name.desc()).printSchema()  # sorting  by name    # if default is -------- ascending \n",
    "\n",
    "df.sort(df.name,df.id).printSchema()  # it sort df.name first  and   then df.id   in  asc\n",
    "\n",
    "df.orderBy(df.name.asc(),df.id).printSchema()  # both will sort asc order first name and id  -------> in "
   ]
  }
 ],
 "metadata": {
  "kernelspec": {
   "display_name": "Python 3",
   "language": "python",
   "name": "python3"
  },
  "language_info": {
   "codemirror_mode": {
    "name": "ipython",
    "version": 3
   },
   "file_extension": ".py",
   "mimetype": "text/x-python",
   "name": "python",
   "nbconvert_exporter": "python",
   "pygments_lexer": "ipython3",
   "version": "3.12.2"
  }
 },
 "nbformat": 4,
 "nbformat_minor": 2
}
