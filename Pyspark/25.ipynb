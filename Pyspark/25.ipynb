{
 "cells": [
  {
   "cell_type": "code",
   "execution_count": 19,
   "metadata": {},
   "outputs": [
    {
     "name": "stdout",
     "output_type": "stream",
     "text": [
      "root\n",
      " |-- id: long (nullable = true)\n",
      " |-- name: string (nullable = true)\n",
      " |-- sal: long (nullable = true)\n",
      "\n",
      "<class 'pyspark.sql.group.GroupedData'>\n"
     ]
    }
   ],
   "source": [
    "from pyspark.sql import SparkSession\n",
    "from pyspark.sql.functions import *\n",
    "from pyspark.sql.types import *\n",
    "spark = SparkSession.builder.appName(\"get\").getOrCreate()\n",
    "\n",
    "data =[(1,'md',30),\n",
    "       (2,'md',50),\n",
    "       (3,'gg',3),\n",
    "       (4,'prin',40),\n",
    "       (5,'md',30),\n",
    "       ]\n",
    "sch =   ['id','name','sal']\n",
    "\n",
    "df =spark.createDataFrame(data,sch)\n",
    "\n",
    "df.printSchema()\n",
    "\n",
    "print(type(df.groupBy('name')))\n",
    "df.groupBy('name')\n",
    "\n",
    "df1 = df.groupBy('name').count()\n",
    "\n",
    "#df.groupBy('name',).max('sal')  # get two columns name  and  max sal   \n",
    "\n",
    "#df.groupBy('name','sal')  # grouping two  simaltaneously \n",
    "# df1.show()"
   ]
  },
  {
   "cell_type": "code",
   "execution_count": null,
   "metadata": {},
   "outputs": [],
   "source": [
    "#"
   ]
  }
 ],
 "metadata": {
  "kernelspec": {
   "display_name": "Python 3",
   "language": "python",
   "name": "python3"
  },
  "language_info": {
   "codemirror_mode": {
    "name": "ipython",
    "version": 3
   },
   "file_extension": ".py",
   "mimetype": "text/x-python",
   "name": "python",
   "nbconvert_exporter": "python",
   "pygments_lexer": "ipython3",
   "version": "3.12.2"
  }
 },
 "nbformat": 4,
 "nbformat_minor": 2
}
