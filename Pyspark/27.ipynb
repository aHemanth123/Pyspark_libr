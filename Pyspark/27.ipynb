{
 "cells": [
  {
   "cell_type": "code",
   "execution_count": 1,
   "metadata": {},
   "outputs": [],
   "source": [
    "from pyspark.sql import SparkSession\n",
    "spark = SparkSession.builder.appName(\"ex\").getOrCreate()\n",
    "\n",
    "data1 =[(1,'mah',20),(2,'w',30)]\n",
    "schema1 =['id','na','age']\n",
    "data2 = [(1,'mah',20), (3,'ma',230),(4,'wa',340)] \n",
    "schema2 =['id','na','sal']\n",
    "\n",
    "\n",
    "df1 = spark.createDataFrame(data1,schema1)\n",
    "df2 = spark.createDataFrame(data2,schema2)"
   ]
  },
  {
   "cell_type": "markdown",
   "metadata": {},
   "source": [
    "UniounByName()"
   ]
  },
  {
   "cell_type": "code",
   "execution_count": 3,
   "metadata": {},
   "outputs": [
    {
     "name": "stdout",
     "output_type": "stream",
     "text": [
      "root\n",
      " |-- id: long (nullable = true)\n",
      " |-- na: string (nullable = true)\n",
      " |-- sal: long (nullable = true)\n",
      "\n"
     ]
    },
    {
     "data": {
      "text/plain": [
       "DataFrame[id: bigint, na: string, sal: bigint]"
      ]
     },
     "metadata": {},
     "output_type": "display_data"
    }
   ],
   "source": [
    "df1.union(df2).printSchema()   \n",
    "display(df1)    # seen the output  it takes    df1 columns   and    union of it "
   ]
  }
 ],
 "metadata": {
  "kernelspec": {
   "display_name": "Python 3",
   "language": "python",
   "name": "python3"
  },
  "language_info": {
   "codemirror_mode": {
    "name": "ipython",
    "version": 3
   },
   "file_extension": ".py",
   "mimetype": "text/x-python",
   "name": "python",
   "nbconvert_exporter": "python",
   "pygments_lexer": "ipython3",
   "version": "3.12.2"
  }
 },
 "nbformat": 4,
 "nbformat_minor": 2
}
