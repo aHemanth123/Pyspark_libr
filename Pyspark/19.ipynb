{
 "cells": [
  {
   "cell_type": "code",
   "execution_count": 2,
   "metadata": {},
   "outputs": [
    {
     "name": "stdout",
     "output_type": "stream",
     "text": [
      "root\n",
      " |-- id: long (nullable = true)\n",
      " |-- n: string (nullable = true)\n",
      " |-- g: string (nullable = true)\n",
      " |-- age: long (nullable = true)\n",
      "\n"
     ]
    }
   ],
   "source": [
    "from pyspark.sql import SparkSession\n",
    "spark = SparkSession.builder.appName(\"ex\").getOrCreate()\n",
    "data = [(1,'ma',\"m\",30) , (2,'m',\"f\",33) ] \n",
    "schem = ['id','n','g','age']\n",
    "\n",
    "df =spark.createDataFrame(data,schem)\n",
    "df.printSchema()"
   ]
  },
  {
   "cell_type": "code",
   "execution_count": 4,
   "metadata": {},
   "outputs": [
    {
     "name": "stdout",
     "output_type": "stream",
     "text": [
      "root\n",
      " |-- id: long (nullable = true)\n",
      " |-- n: string (nullable = true)\n",
      " |-- NEW ONE: string (nullable = false)\n",
      "\n"
     ]
    }
   ],
   "source": [
    "from pyspark.sql.functions import when \n",
    "\n",
    "# u should use   ==   equals \n",
    "df1 = df.select(df.id,df.n, when( df.g == \"m\",\"Male\")\\\n",
    "                .when(df.n == \"f\",\"female\")\\\n",
    "                .otherwise(\"unknown\")\n",
    "                .alias(\"NEW ONE\") \\\n",
    "                )   # new column will create \n",
    "\n",
    "df1.printSchema()"
   ]
  }
 ],
 "metadata": {
  "kernelspec": {
   "display_name": "Python 3",
   "language": "python",
   "name": "python3"
  },
  "language_info": {
   "codemirror_mode": {
    "name": "ipython",
    "version": 3
   },
   "file_extension": ".py",
   "mimetype": "text/x-python",
   "name": "python",
   "nbconvert_exporter": "python",
   "pygments_lexer": "ipython3",
   "version": "3.12.2"
  }
 },
 "nbformat": 4,
 "nbformat_minor": 2
}
