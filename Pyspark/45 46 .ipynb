{
 "cells": [
  {
   "cell_type": "markdown",
   "metadata": {},
   "source": [
    "from_json()  -->  convert json to  --- Map stype or  Struct Type  Or String "
   ]
  },
  {
   "cell_type": "code",
   "execution_count": 3,
   "metadata": {},
   "outputs": [
    {
     "name": "stdout",
     "output_type": "stream",
     "text": [
      "root\n",
      " |-- id: string (nullable = true)\n",
      " |-- props: string (nullable = true)\n",
      "\n"
     ]
    }
   ],
   "source": [
    "from pyspark.sql import SparkSession\n",
    "spark = SparkSession.builder.getOrCreate()\n",
    "data = [('mah','{\"hair\":\"black\",\"eye\":\"brown\"}')]\n",
    "schema  =['id','props']\n",
    "df  =spark.createDataFrame(data,schema)\n",
    "df.printSchema()"
   ]
  },
  {
   "cell_type": "markdown",
   "metadata": {},
   "source": [
    "from Json to Map type"
   ]
  },
  {
   "cell_type": "code",
   "execution_count": 4,
   "metadata": {},
   "outputs": [
    {
     "name": "stdout",
     "output_type": "stream",
     "text": [
      "root\n",
      " |-- id: string (nullable = true)\n",
      " |-- props: string (nullable = true)\n",
      " |-- propinMap: map (nullable = true)\n",
      " |    |-- key: string\n",
      " |    |-- value: string (valueContainsNull = true)\n",
      "\n"
     ]
    }
   ],
   "source": [
    "from pyspark.sql.functions  import from_json\n",
    "from pyspark.sql.types import MapType,StringType\n",
    "\n",
    "Maptypeschema = MapType(StringType(),StringType())  # schema contains  key value pairs of  df\n",
    "\n",
    "df2 =df.withColumn('propinMap',from_json(df.props,Maptypeschema))        # pass  from_json ( col and schema )\n",
    "# create a column of ans  like   hair-> black , eye-> brown\n",
    "\n",
    "df2.printSchema()"
   ]
  },
  {
   "cell_type": "markdown",
   "metadata": {},
   "source": [
    "U can Modify Map Type col --- Propin Map   and create new column  -------- <> and aces key ,value because of Map TYpe"
   ]
  },
  {
   "cell_type": "code",
   "execution_count": 5,
   "metadata": {},
   "outputs": [
    {
     "name": "stdout",
     "output_type": "stream",
     "text": [
      "root\n",
      " |-- id: string (nullable = true)\n",
      " |-- props: string (nullable = true)\n",
      " |-- propinMap: map (nullable = true)\n",
      " |    |-- key: string\n",
      " |    |-- value: string (valueContainsNull = true)\n",
      " |-- hair: string (nullable = true)\n",
      " |-- eye: string (nullable = true)\n",
      "\n"
     ]
    }
   ],
   "source": [
    "df3= df2.withColumn('hair',df2.propinMap.hair)\\\n",
    "    .withColumn('eye',df2.propinMap.eye)\n",
    "df3.printSchema()"
   ]
  },
  {
   "cell_type": "markdown",
   "metadata": {},
   "source": [
    "_____\n",
    "46 fromm Json TO  Struct Type"
   ]
  },
  {
   "cell_type": "code",
   "execution_count": 6,
   "metadata": {},
   "outputs": [
    {
     "name": "stdout",
     "output_type": "stream",
     "text": [
      "root\n",
      " |-- id: string (nullable = true)\n",
      " |-- props: string (nullable = true)\n",
      "\n"
     ]
    }
   ],
   "source": [
    "from pyspark.sql import SparkSession\n",
    "spark = SparkSession.builder.getOrCreate()\n",
    "data = [('mah','{\"hair\":\"black\",\"eye\":\"brown\"}')]\n",
    "schema  =['id','props']\n",
    "df  =spark.createDataFrame(data,schema)\n",
    "df.printSchema()"
   ]
  },
  {
   "cell_type": "code",
   "execution_count": 7,
   "metadata": {},
   "outputs": [
    {
     "name": "stdout",
     "output_type": "stream",
     "text": [
      "root\n",
      " |-- id: string (nullable = true)\n",
      " |-- props: string (nullable = true)\n",
      " |-- propsStruct: struct (nullable = true)\n",
      " |    |-- hair: string (nullable = true)\n",
      " |    |-- eye: string (nullable = true)\n",
      "\n"
     ]
    }
   ],
   "source": [
    "from pyspark.sql.functions import from_json\n",
    "from pyspark.sql.types  import  StructType,StructField,StringType\n",
    "\n",
    "structsch =StructType([\n",
    "                       StructField('hair',StringType()),\n",
    "                      StructField('eye',StringType()),\n",
    "]) \n",
    "\n",
    "df4 =df.withColumn('propsStruct',from_json(df.props,structsch))  # struct \n",
    "df4.printSchema()"
   ]
  },
  {
   "cell_type": "code",
   "execution_count": 9,
   "metadata": {},
   "outputs": [
    {
     "ename": "AttributeError",
     "evalue": "'str' object has no attribute 'df4'",
     "output_type": "error",
     "traceback": [
      "\u001b[1;31m---------------------------------------------------------------------------\u001b[0m",
      "\u001b[1;31mAttributeError\u001b[0m                            Traceback (most recent call last)",
      "Cell \u001b[1;32mIn[9], line 3\u001b[0m\n\u001b[0;32m      1\u001b[0m \u001b[38;5;28;01mfrom\u001b[39;00m \u001b[38;5;21;01mpyspark\u001b[39;00m\u001b[38;5;21;01m.\u001b[39;00m\u001b[38;5;21;01msql\u001b[39;00m\u001b[38;5;21;01m.\u001b[39;00m\u001b[38;5;21;01mfunctions\u001b[39;00m \u001b[38;5;28;01mimport\u001b[39;00m from_json\n\u001b[0;32m      2\u001b[0m \u001b[38;5;28;01mfrom\u001b[39;00m \u001b[38;5;21;01mpyspark\u001b[39;00m\u001b[38;5;21;01m.\u001b[39;00m\u001b[38;5;21;01msql\u001b[39;00m\u001b[38;5;21;01m.\u001b[39;00m\u001b[38;5;21;01mtypes\u001b[39;00m  \u001b[38;5;28;01mimport\u001b[39;00m  StructType,StructField,StringType\n\u001b[1;32m----> 3\u001b[0m dfi \u001b[38;5;241m=\u001b[39mdf4\u001b[38;5;241m.\u001b[39mwithColumn(\u001b[38;5;124;43m'\u001b[39;49m\u001b[38;5;124;43mhair\u001b[39;49m\u001b[38;5;124;43m'\u001b[39;49m\u001b[38;5;241;43m.\u001b[39;49m\u001b[43mdf4\u001b[49m\u001b[38;5;241m.\u001b[39mpropStruct\u001b[38;5;241m.\u001b[39mhair)\\\n\u001b[0;32m      4\u001b[0m      \u001b[38;5;241m.\u001b[39mwithColum(\u001b[38;5;124m'\u001b[39m\u001b[38;5;124meye\u001b[39m\u001b[38;5;124m'\u001b[39m,df4\u001b[38;5;241m.\u001b[39mprospStruct\u001b[38;5;241m.\u001b[39meye)\n\u001b[0;32m      5\u001b[0m dfi\u001b[38;5;241m.\u001b[39mprintSchema()\n",
      "\u001b[1;31mAttributeError\u001b[0m: 'str' object has no attribute 'df4'"
     ]
    }
   ],
   "source": [
    "from pyspark.sql.functions import from_json\n",
    "from pyspark.sql.types  import  StructType,StructField,StringType\n",
    "dfi =df4.withColumn('hair'.df4.propStruct.hair)\\\n",
    "     .withColum('eye',df4.prospStruct.eye)\n",
    "dfi.printSchema()"
   ]
  },
  {
   "cell_type": "markdown",
   "metadata": {},
   "source": [
    "_____________\n",
    "47. to json()"
   ]
  },
  {
   "cell_type": "code",
   "execution_count": null,
   "metadata": {},
   "outputs": [],
   "source": []
  }
 ],
 "metadata": {
  "kernelspec": {
   "display_name": "Python 3",
   "language": "python",
   "name": "python3"
  },
  "language_info": {
   "codemirror_mode": {
    "name": "ipython",
    "version": 3
   },
   "file_extension": ".py",
   "mimetype": "text/x-python",
   "name": "python",
   "nbconvert_exporter": "python",
   "pygments_lexer": "ipython3",
   "version": "3.12.2"
  }
 },
 "nbformat": 4,
 "nbformat_minor": 2
}
