{
 "cells": [
  {
   "cell_type": "code",
   "execution_count": 3,
   "metadata": {},
   "outputs": [
    {
     "name": "stdout",
     "output_type": "stream",
     "text": [
      "root\n",
      " |-- id: long (nullable = true)\n",
      " |-- name: string (nullable = true)\n",
      " |-- skills: array (nullable = true)\n",
      " |    |-- element: string (containsNull = true)\n",
      "\n"
     ]
    },
    {
     "data": {
      "text/plain": [
       "DataFrame[id: bigint, name: string, skills: array<string>]"
      ]
     },
     "metadata": {},
     "output_type": "display_data"
    }
   ],
   "source": [
    "from pyspark.sql import SparkSession\n",
    "spark = SparkSession.builder.appName(\"ex\").getOrCreate()\n",
    "\n",
    "data = [(1,'mah',['dotnet','azure']) ,\n",
    "        (2,'ma',['aws','azure']) ]\n",
    "\n",
    "schema = ['id','name','skills']\n",
    "df =spark.createDataFrame(data,schema)\n",
    "df.printSchema()\n",
    "display(df)"
   ]
  },
  {
   "cell_type": "code",
   "execution_count": 6,
   "metadata": {},
   "outputs": [
    {
     "name": "stdout",
     "output_type": "stream",
     "text": [
      "root\n",
      " |-- id: long (nullable = true)\n",
      " |-- name: string (nullable = true)\n",
      " |-- skills: array (nullable = true)\n",
      " |    |-- element: string (containsNull = true)\n",
      "\n",
      "root\n",
      " |-- id: long (nullable = true)\n",
      " |-- name: string (nullable = true)\n",
      " |-- skills: array (nullable = true)\n",
      " |    |-- element: string (containsNull = true)\n",
      " |-- skill: string (nullable = true)\n",
      "\n"
     ]
    }
   ],
   "source": [
    "# explode - create a row for each one \n",
    "\n",
    "from pyspark.sql.functions import explode \n",
    "\n",
    "df1 =df.withColumn('skill',explode(df.skills))  # observe the output  \n",
    "df.printSchema()\n",
    "df1.printSchema()"
   ]
  },
  {
   "cell_type": "code",
   "execution_count": 12,
   "metadata": {},
   "outputs": [
    {
     "name": "stdout",
     "output_type": "stream",
     "text": [
      "root\n",
      " |-- id: long (nullable = true)\n",
      " |-- name: string (nullable = true)\n",
      " |-- skills: string (nullable = true)\n",
      "\n",
      "root\n",
      " |-- id: long (nullable = true)\n",
      " |-- name: string (nullable = true)\n",
      " |-- skills: string (nullable = true)\n",
      " |-- skillss: array (nullable = true)\n",
      " |    |-- element: string (containsNull = false)\n",
      "\n"
     ]
    }
   ],
   "source": [
    "# split -> convert it into array\n",
    "\n",
    "from pyspark.sql import SparkSession\n",
    "from pyspark.sql.functions import split \n",
    "\n",
    "spark = SparkSession.builder.appName(\"ex\").getOrCreate()\n",
    "\n",
    "data = [(1,'mah','dotnet,azure') ,(2,'ma','aws ,azure') ] # dont pass a array \n",
    "\n",
    "schema = ['id','name','skills']\n",
    "df=spark.createDataFrame(data,schema)\n",
    "df1 =df.withColumn('skillss',split(df.skills,','))\n",
    "df.printSchema()\n",
    "df1.printSchema()    # ---------- It wil be array type "
   ]
  },
  {
   "cell_type": "code",
   "execution_count": 17,
   "metadata": {},
   "outputs": [
    {
     "name": "stdout",
     "output_type": "stream",
     "text": [
      "root\n",
      " |-- id: long (nullable = true)\n",
      " |-- name: string (nullable = true)\n",
      " |-- 1stskill: string (nullable = true)\n",
      " |-- 2ndskill: string (nullable = true)\n",
      "\n",
      "root\n",
      " |-- id: long (nullable = true)\n",
      " |-- name: string (nullable = true)\n",
      " |-- 1stskill: string (nullable = true)\n",
      " |-- 2ndskill: string (nullable = true)\n",
      " |-- skill: array (nullable = false)\n",
      " |    |-- element: string (containsNull = true)\n",
      "\n"
     ]
    }
   ],
   "source": [
    "# array()  --> merge the values and convert it into array\n",
    "from pyspark.sql import SparkSession\n",
    "from pyspark.sql.functions import *\n",
    "spark  = SparkSession.builder.appName(\"ex\").getOrCreate()\n",
    "\n",
    "data = [(1,'maheer','.net','azere'),(2,'dd','aws','si')]\n",
    "schema = ['id','name','1stskill','2ndskill']\n",
    "df =spark.createDataFrame(data,schema)\n",
    "df.printSchema()\n",
    "\n",
    "# df1 = df.withColumn('skill',array(df.1stskill , df.2ndskill ) )  # ----->  we should not  use df. \n",
    "\n",
    "df1 = df.withColumn('skill', array(col('1stskill') , col('2ndskill') ))\n",
    "df1.printSchema()"
   ]
  },
  {
   "cell_type": "code",
   "execution_count": 22,
   "metadata": {},
   "outputs": [
    {
     "name": "stdout",
     "output_type": "stream",
     "text": [
      "root\n",
      " |-- id: long (nullable = true)\n",
      " |-- name: string (nullable = true)\n",
      " |-- skill: array (nullable = true)\n",
      " |    |-- element: string (containsNull = true)\n",
      "\n",
      "root\n",
      " |-- id: long (nullable = true)\n",
      " |-- name: string (nullable = true)\n",
      " |-- skill: array (nullable = true)\n",
      " |    |-- element: string (containsNull = true)\n",
      " |-- Has.net Skill: boolean (nullable = true)\n",
      "\n"
     ]
    }
   ],
   "source": [
    "# Array_contains()\n",
    "from pyspark.sql  import SparkSession\n",
    "from pyspark.sql.functions import *\n",
    "spark = SparkSession.builder.appName(\"ex\").getOrCreate()\n",
    "\n",
    "data = [(1,'mah',['.net','azure']) , (2,'a',['.ne','ae']) ]\n",
    "schema = ['id','name','skill']\n",
    "\n",
    "df = spark.createDataFrame(data,schema)\n",
    "df.printSchema()\n",
    "\n",
    "df1= df.withColumn(\"Has.net Skill\",array_contains(col('skill'),'.net'))  # returns boolean\n",
    "\n",
    "df1.printSchema() \n"
   ]
  }
 ],
 "metadata": {
  "kernelspec": {
   "display_name": "Python 3",
   "language": "python",
   "name": "python3"
  },
  "language_info": {
   "codemirror_mode": {
    "name": "ipython",
    "version": 3
   },
   "file_extension": ".py",
   "mimetype": "text/x-python",
   "name": "python",
   "nbconvert_exporter": "python",
   "pygments_lexer": "ipython3",
   "version": "3.12.2"
  }
 },
 "nbformat": 4,
 "nbformat_minor": 2
}
