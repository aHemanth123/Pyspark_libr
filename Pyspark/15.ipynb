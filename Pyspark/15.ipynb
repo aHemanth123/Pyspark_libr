{
 "cells": [
  {
   "cell_type": "markdown",
   "metadata": {},
   "source": [
    "Map Type  --> like key : Value  pairs"
   ]
  },
  {
   "cell_type": "code",
   "execution_count": 3,
   "metadata": {},
   "outputs": [
    {
     "name": "stdout",
     "output_type": "stream",
     "text": [
      "root\n",
      " |-- name: string (nullable = true)\n",
      " |-- prop: map (nullable = true)\n",
      " |    |-- key: string\n",
      " |    |-- value: string (valueContainsNull = true)\n",
      "\n"
     ]
    }
   ],
   "source": [
    "from pyspark.sql import SparkSession\n",
    "from pyspark.sql.functions import *\n",
    "\n",
    "spark = SparkSession.builder.appName(\"ex\").getOrCreate()\n",
    "data = [('maheer',{'hair' :'black','eye':'blue'}), ('m',{'hair' :'b','eye':'black'})]\n",
    "\n",
    "schema = ['name','prop']\n",
    "df =spark.createDataFrame(data,schema)\n",
    "df.printSchema()    # show output  map Type "
   ]
  },
  {
   "cell_type": "code",
   "execution_count": 5,
   "metadata": {},
   "outputs": [
    {
     "name": "stdout",
     "output_type": "stream",
     "text": [
      "root\n",
      " |-- name: string (nullable = true)\n",
      " |-- properties: map (nullable = true)\n",
      " |    |-- key: string\n",
      " |    |-- value: string (valueContainsNull = true)\n",
      "\n"
     ]
    }
   ],
   "source": [
    "from pyspark.sql import SparkSession\n",
    "from pyspark.sql.functions import *\n",
    "from pyspark.sql.types  import StructType,StructField,IntegerType,StringType,MapType\n",
    "\n",
    "spark = SparkSession.builder.appName(\"ex\").getOrCreate()\n",
    "data = [('maheer',{'hair' :'black','eye':'blue'}), ('m',{'hair' :'b','eye':'black'})]\n",
    "\n",
    "schema =  StructType([\n",
    "         StructField('name',StringType()),\n",
    "         StructField('properties',MapType(StringType(),StringType()))   #  see this <--------Map type \n",
    "])\n",
    "df =spark.createDataFrame(data,schema)\n",
    "df.printSchema()    "
   ]
  },
  {
   "cell_type": "code",
   "execution_count": 7,
   "metadata": {},
   "outputs": [
    {
     "name": "stdout",
     "output_type": "stream",
     "text": [
      "root\n",
      " |-- name: string (nullable = true)\n",
      " |-- properties: map (nullable = true)\n",
      " |    |-- key: string\n",
      " |    |-- value: string (valueContainsNull = true)\n",
      " |-- hair: string (nullable = true)\n",
      "\n"
     ]
    }
   ],
   "source": [
    "# Acessing Map ELements\n",
    "#from Above the Code \n",
    "\n",
    "df1 = df.withColumn(\"hair\",df.properties['hair'])  # or df.properties[0]\n",
    "df1.printSchema()"
   ]
  },
  {
   "cell_type": "code",
   "execution_count": 8,
   "metadata": {},
   "outputs": [
    {
     "name": "stdout",
     "output_type": "stream",
     "text": [
      "root\n",
      " |-- name: string (nullable = true)\n",
      " |-- properties: map (nullable = true)\n",
      " |    |-- key: string\n",
      " |    |-- value: string (valueContainsNull = true)\n",
      " |-- hair: string (nullable = true)\n",
      " |-- eye: string (nullable = true)\n",
      "\n"
     ]
    }
   ],
   "source": [
    "df2 = df1.withColumn(\"eye\",df.properties.getItem('eye'))\n",
    "df2.printSchema()"
   ]
  }
 ],
 "metadata": {
  "kernelspec": {
   "display_name": "Python 3",
   "language": "python",
   "name": "python3"
  },
  "language_info": {
   "codemirror_mode": {
    "name": "ipython",
    "version": 3
   },
   "file_extension": ".py",
   "mimetype": "text/x-python",
   "name": "python",
   "nbconvert_exporter": "python",
   "pygments_lexer": "ipython3",
   "version": "3.12.2"
  }
 },
 "nbformat": 4,
 "nbformat_minor": 2
}
