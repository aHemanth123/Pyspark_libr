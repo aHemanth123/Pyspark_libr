{
 "cells": [
  {
   "cell_type": "code",
   "execution_count": null,
   "metadata": {},
   "outputs": [],
   "source": [
    "#alias ,asc ,desc ,cast ,like "
   ]
  },
  {
   "cell_type": "code",
   "execution_count": 6,
   "metadata": {},
   "outputs": [
    {
     "name": "stdout",
     "output_type": "stream",
     "text": [
      "root\n",
      " |-- id: long (nullable = true)\n",
      " |-- n: string (nullable = true)\n",
      " |-- g: string (nullable = true)\n",
      " |-- age: long (nullable = true)\n",
      "\n",
      "root\n",
      " |-- id: long (nullable = true)\n",
      " |-- name: string (nullable = true)\n",
      " |-- gender: string (nullable = true)\n",
      "\n"
     ]
    }
   ],
   "source": [
    "from pyspark.sql import SparkSession\n",
    "from pyspark.sql.functions import *\n",
    "from pyspark.sql.types import *\n",
    "spark = SparkSession.builder.appName(\"ex\").getOrCreate()\n",
    "data = [(1,'ma',\"m\",30) , (2,'m',\"f\",33) ] \n",
    "schem = ['id','n','g','age']\n",
    "\n",
    "df =spark.createDataFrame(data,schem)\n",
    "df.printSchema()\n",
    "df1 =df.select(df.id,df.n.alias('name'),df.g.alias('gender'))  # see output names\n",
    "df1.printSchema()"
   ]
  },
  {
   "cell_type": "code",
   "execution_count": 8,
   "metadata": {},
   "outputs": [
    {
     "name": "stdout",
     "output_type": "stream",
     "text": [
      "root\n",
      " |-- id: long (nullable = true)\n",
      " |-- n: string (nullable = true)\n",
      " |-- g: string (nullable = true)\n",
      " |-- age: long (nullable = true)\n",
      "\n"
     ]
    }
   ],
   "source": [
    "#asc& desc\n",
    "from pyspark.sql import SparkSession\n",
    "from pyspark.sql.functions import *\n",
    "from pyspark.sql.types import *\n",
    "spark = SparkSession.builder.appName(\"ex\").getOrCreate()\n",
    "data = [(1,'ma',\"m\",30) , (2,'m',\"f\",33) ] \n",
    "schem = ['id','n','g','age']\n",
    "\n",
    "df =spark.createDataFrame(data,schem)\n",
    "df.sort(df.n.asc())   # sorting will take place install java 8 or 11\n",
    "df.printSchema()"
   ]
  }
 ],
 "metadata": {
  "kernelspec": {
   "display_name": "Python 3",
   "language": "python",
   "name": "python3"
  },
  "language_info": {
   "codemirror_mode": {
    "name": "ipython",
    "version": 3
   },
   "file_extension": ".py",
   "mimetype": "text/x-python",
   "name": "python",
   "nbconvert_exporter": "python",
   "pygments_lexer": "ipython3",
   "version": "3.12.2"
  }
 },
 "nbformat": 4,
 "nbformat_minor": 2
}
