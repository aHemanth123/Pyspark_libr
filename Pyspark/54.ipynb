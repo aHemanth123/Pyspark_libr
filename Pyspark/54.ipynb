{
 "cells": [
  {
   "cell_type": "code",
   "execution_count": 4,
   "metadata": {},
   "outputs": [
    {
     "name": "stdout",
     "output_type": "stream",
     "text": [
      "root\n",
      " |-- id: string (nullable = true)\n",
      " |-- dept: string (nullable = true)\n",
      " |-- sal: long (nullable = true)\n",
      "\n"
     ]
    }
   ],
   "source": [
    "from pyspark.sql import SparkSession\n",
    "spark = SparkSession.builder.getOrCreate()\n",
    "\n",
    "from pyspark.sql.window import Window\n",
    "from pyspark.sql.functions import row_number,rank,dense_rank\n",
    "\n",
    "\n",
    "data = [('mah','Hr',200),\n",
    "         ('waf','it',999),\n",
    "         ('a','hr',339)]\n",
    "\n",
    "sch = ['id','dept','sal']\n",
    "\n",
    "df = spark.createDataFrame(data,sch)\n",
    "\n",
    "\n",
    "df.sort('dept').printSchema()\n",
    "\n",
    "\n",
    "\n",
    "# again See  video 54 by window \n",
    "\n"
   ]
  },
  {
   "cell_type": "markdown",
   "metadata": {},
   "source": [
    "It will create row no partition on dept  and----  ascending order   sal are rowno"
   ]
  },
  {
   "cell_type": "code",
   "execution_count": 5,
   "metadata": {},
   "outputs": [
    {
     "name": "stdout",
     "output_type": "stream",
     "text": [
      "root\n",
      " |-- id: string (nullable = true)\n",
      " |-- dept: string (nullable = true)\n",
      " |-- sal: long (nullable = true)\n",
      " |-- rowNo: integer (nullable = false)\n",
      "\n"
     ]
    }
   ],
   "source": [
    "window = Window.partitionBy('dept').orderBy('sal')\n",
    "df.withColumn('rowNo',row_number().over(window)).printSchema()"
   ]
  },
  {
   "cell_type": "markdown",
   "metadata": {},
   "source": [
    "rank"
   ]
  },
  {
   "cell_type": "code",
   "execution_count": 6,
   "metadata": {},
   "outputs": [
    {
     "data": {
      "text/plain": [
       "<function pyspark.sql.functions.rank() -> pyspark.sql.column.Column>"
      ]
     },
     "execution_count": 6,
     "metadata": {},
     "output_type": "execute_result"
    }
   ],
   "source": [
    "rank"
   ]
  }
 ],
 "metadata": {
  "kernelspec": {
   "display_name": "Python 3",
   "language": "python",
   "name": "python3"
  },
  "language_info": {
   "codemirror_mode": {
    "name": "ipython",
    "version": 3
   },
   "file_extension": ".py",
   "mimetype": "text/x-python",
   "name": "python",
   "nbconvert_exporter": "python",
   "pygments_lexer": "ipython3",
   "version": "3.12.2"
  }
 },
 "nbformat": 4,
 "nbformat_minor": 2
}
