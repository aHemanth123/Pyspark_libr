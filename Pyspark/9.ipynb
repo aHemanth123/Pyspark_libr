{
 "cells": [
  {
   "cell_type": "markdown",
   "metadata": {},
   "source": [
    "show() will Not work so  untill u instal  Java 8 or 11"
   ]
  },
  {
   "cell_type": "markdown",
   "metadata": {},
   "source": [
    "df.show(n = 2,truncate = False, vertical = true)  \n",
    "\n",
    "# n = 2 rows  \n",
    "\n",
    "# truncate - false  , to visible all the row data\n",
    "\n",
    "# Vertical =  true , Manner the data will be visible "
   ]
  }
 ],
 "metadata": {
  "language_info": {
   "name": "python"
  }
 },
 "nbformat": 4,
 "nbformat_minor": 2
}
