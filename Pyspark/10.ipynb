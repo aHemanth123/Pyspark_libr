{
 "cells": [
  {
   "cell_type": "code",
   "execution_count": null,
   "metadata": {},
   "outputs": [
    {
     "name": "stdout",
     "output_type": "stream",
     "text": [
      "root\n",
      " |-- id: long (nullable = true)\n",
      " |-- name: string (nullable = true)\n",
      " |-- salary: long (nullable = true)\n",
      "\n"
     ]
    },
    {
     "data": {
      "text/plain": [
       "DataFrame[id: bigint, name: string, salary: bigint]"
      ]
     },
     "metadata": {},
     "output_type": "display_data"
    }
   ],
   "source": [
    "from  pyspark.sql import SparkSession\n",
    "spark = SparkSession.builder.appName(\"Ex\").getOrCreate()  # for  databrics it is not needed \n",
    "\n",
    "data  = [(1,'Maheer',300), (2,'dd',222)]\n",
    "columns = ['id','name','salary']\n",
    "\n",
    "df  = spark.createDataFrame(data = data,schema = columns)\n",
    "\n",
    "df.printSchema()\n",
    "\n",
    "display(df)"
   ]
  },
  {
   "cell_type": "code",
   "execution_count": 20,
   "metadata": {},
   "outputs": [],
   "source": [
    "from pyspark.sql.functions import col ,lit  \n",
    "\n",
    "# using functions import col   ---------- > instead of col u can use  ------->   df.salary\n",
    " \n",
    "df1 = df.withColumn(colName= 'salary',col = col('salary')+3)   # use       .cast('Integer')  --- to change into Integer Type  \n",
    " "
   ]
  },
  {
   "cell_type": "code",
   "execution_count": 21,
   "metadata": {},
   "outputs": [
    {
     "name": "stdout",
     "output_type": "stream",
     "text": [
      "root\n",
      " |-- id: long (nullable = true)\n",
      " |-- name: string (nullable = true)\n",
      " |-- salary: long (nullable = true)\n",
      " |-- country: string (nullable = false)\n",
      "\n"
     ]
    }
   ],
   "source": [
    "\n",
    "df2 =df1.withColumn('country',lit('India') )   #lit will be used \n",
    "  # the entire new col  will be india   -------\n",
    "df2.printSchema()"
   ]
  }
 ],
 "metadata": {
  "kernelspec": {
   "display_name": "Python 3",
   "language": "python",
   "name": "python3"
  },
  "language_info": {
   "codemirror_mode": {
    "name": "ipython",
    "version": 3
   },
   "file_extension": ".py",
   "mimetype": "text/x-python",
   "name": "python",
   "nbconvert_exporter": "python",
   "pygments_lexer": "ipython3",
   "version": "3.12.2"
  }
 },
 "nbformat": 4,
 "nbformat_minor": 2
}
