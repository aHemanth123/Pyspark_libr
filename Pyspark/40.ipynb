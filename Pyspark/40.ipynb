{
 "cells": [
  {
   "cell_type": "markdown",
   "metadata": {},
   "source": [
    "UDF\n",
    "User Defined function"
   ]
  },
  {
   "cell_type": "code",
   "execution_count": 1,
   "metadata": {},
   "outputs": [
    {
     "name": "stdout",
     "output_type": "stream",
     "text": [
      "root\n",
      " |-- id: long (nullable = true)\n",
      " |-- na: string (nullable = true)\n",
      " |-- sal: long (nullable = true)\n",
      "\n"
     ]
    }
   ],
   "source": [
    "from pyspark.sql import SparkSession\n",
    "spark = SparkSession.builder.getOrCreate()\n",
    "\n",
    "data1 =[(1,'mah',20),(2,'w',30)]\n",
    "schema1 =['id','na','sal'] \n",
    "\n",
    "df1 = spark.createDataFrame(data1,schema1)\n",
    "df1.printSchema()\n"
   ]
  },
  {
   "cell_type": "markdown",
   "metadata": {},
   "source": [
    "Using UDF"
   ]
  },
  {
   "cell_type": "code",
   "execution_count": 4,
   "metadata": {},
   "outputs": [],
   "source": [
    "def total(s,i):\n",
    "    return s+i\n",
    "from pyspark.sql.types import IntegerType\n",
    "from pyspark.sql.functions import udf\n",
    "\n",
    "totalpay = udf(lambda s,i:  total(s,i),IntegerType())  # return type must be given \n"
   ]
  },
  {
   "cell_type": "code",
   "execution_count": 5,
   "metadata": {},
   "outputs": [
    {
     "name": "stdout",
     "output_type": "stream",
     "text": [
      "root\n",
      " |-- id: long (nullable = true)\n",
      " |-- na: string (nullable = true)\n",
      " |-- sal: long (nullable = true)\n",
      " |-- total Payment: long (nullable = true)\n",
      "\n"
     ]
    }
   ],
   "source": [
    "df1.withColumn('total Payment',total(df1.sal,df1.id)).printSchema()"
   ]
  },
  {
   "cell_type": "markdown",
   "metadata": {},
   "source": [
    "Using  UDF Annotation  ---- Another MEthod"
   ]
  },
  {
   "cell_type": "code",
   "execution_count": null,
   "metadata": {},
   "outputs": [],
   "source": [
    "@udf(returnType=IntegerType)\n",
    "def total(s,i):\n",
    "    return s+i\n",
    "from pyspark.sql.types import IntegerType\n",
    "from pyspark.sql.functions import udf \n"
   ]
  },
  {
   "cell_type": "code",
   "execution_count": 7,
   "metadata": {},
   "outputs": [
    {
     "name": "stdout",
     "output_type": "stream",
     "text": [
      "root\n",
      " |-- id: long (nullable = true)\n",
      " |-- na: string (nullable = true)\n",
      " |-- sal: long (nullable = true)\n",
      " |-- Total: long (nullable = true)\n",
      "\n"
     ]
    }
   ],
   "source": [
    "df1.select('*',total(df1.sal,df1.id).alias(\"Total\")).printSchema()"
   ]
  },
  {
   "cell_type": "markdown",
   "metadata": {},
   "source": [
    "If  U want Use ------> Sql COde and simaltaneously----> udf functions also  then U  must  use for ------->spark.register function"
   ]
  },
  {
   "cell_type": "code",
   "execution_count": 11,
   "metadata": {},
   "outputs": [],
   "source": [
    "# def total(s,b) :\n",
    "#     # return s+b\n",
    "# spark.udf.register(name = 'totalpaysql',f= totalpay,returnType = IntegerType( ))"
   ]
  },
  {
   "cell_type": "code",
   "execution_count": null,
   "metadata": {},
   "outputs": [],
   "source": [
    "%sql\n",
    "select id,name,total(salary,bonus)  as tpay  from emps"
   ]
  }
 ],
 "metadata": {
  "kernelspec": {
   "display_name": "Python 3",
   "language": "python",
   "name": "python3"
  },
  "language_info": {
   "codemirror_mode": {
    "name": "ipython",
    "version": 3
   },
   "file_extension": ".py",
   "mimetype": "text/x-python",
   "name": "python",
   "nbconvert_exporter": "python",
   "pygments_lexer": "ipython3",
   "version": "3.12.2"
  }
 },
 "nbformat": 4,
 "nbformat_minor": 2
}
