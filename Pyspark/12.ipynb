{
 "cells": [
  {
   "cell_type": "code",
   "execution_count": null,
   "metadata": {},
   "outputs": [
    {
     "name": "stdout",
     "output_type": "stream",
     "text": [
      "root\n",
      " |-- id: long (nullable = true)\n",
      " |-- na: string (nullable = true)\n",
      " |-- s: long (nullable = true)\n",
      "\n"
     ]
    }
   ],
   "source": [
    "from pyspark.sql import  SparkSession \n",
    "from pyspark.sql.types  import  StructField,StructType,StructType,IntegerType,StringType\n",
    " \n",
    "spark  = SparkSession.builder.appName(\"Ex\").getOrCreate()  \n",
    "\n",
    "data = [(1,'ma',22),(2,'dd',33)]\n",
    "sch = ['id','na','s']\n",
    "df = spark.createDataFrame(data,sch)   # as  u see there will be no column names in  the ans\n",
    "\n",
    "# instead it will represent  __1 ,__ 2,__3 ......\n",
    "\n",
    "df.printSchema()"
   ]
  },
  {
   "cell_type": "code",
   "execution_count": null,
   "metadata": {},
   "outputs": [
    {
     "name": "stdout",
     "output_type": "stream",
     "text": [
      "root\n",
      " |-- id: integer (nullable = true)\n",
      " |-- name: string (nullable = true)\n",
      " |-- sal: integer (nullable = true)\n",
      "\n"
     ]
    }
   ],
   "source": [
    "# if want to change data types\n",
    "\n",
    "from pyspark.sql import  SparkSession \n",
    "from pyspark.sql.types  import  StructField,StructType,StructType,IntegerType,StringType\n",
    " \n",
    "spark  = SparkSession.builder.appName(\"Ex\").getOrCreate()\n",
    "\n",
    "data = [(1,'ma',22),(2,'dd',33)]\n",
    " \n",
    "sc =  StructType([\n",
    "                        StructField( name = 'id',dataType=IntegerType()) ,\\\n",
    "                        StructField( name = 'name',dataType = StringType()) ,\\\n",
    "                        StructField(   name ='sal',dataType = IntegerType())  ])\n",
    "df1 = spark.createDataFrame(data,sc)  \n",
    "\n",
    "df1.printSchema()   # see the datatype  "
   ]
  },
  {
   "cell_type": "markdown",
   "metadata": {},
   "source": [
    "# using nested data types"
   ]
  },
  {
   "cell_type": "code",
   "execution_count": null,
   "metadata": {},
   "outputs": [
    {
     "name": "stdout",
     "output_type": "stream",
     "text": [
      "root\n",
      " |-- id: integer (nullable = true)\n",
      " |-- name: struct (nullable = true)\n",
      " |    |-- firstName: string (nullable = true)\n",
      " |    |-- second: string (nullable = true)\n",
      " |-- sal: integer (nullable = true)\n",
      "\n"
     ]
    }
   ],
   "source": [
    "# NEsted  StructFields\n",
    "from pyspark.sql import  SparkSession \n",
    "from pyspark.sql.types  import  StructField,StructType,StructType,IntegerType,StringType\n",
    " \n",
    "spark  = SparkSession.builder.appName(\"Ex\").getOrCreate()\n",
    "\n",
    "data = [(1,('ma','s'),22),(2,('dd','l'),33)]  \n",
    "\n",
    "# using NEsted  Datatypes ----------------\n",
    "\n",
    "StrName = StructType([ \n",
    "    StructField('firstName',StringType()),\n",
    "    StructField('second',StringType()) \n",
    "])\n",
    "\n",
    " \n",
    "sc =  StructType([ \n",
    "                        StructField( name = 'id',dataType=IntegerType()) ,\\\n",
    "                        StructField( name = 'name',dataType = StrName) ,\\\n",
    "                        StructField(   name ='sal',dataType = IntegerType())  ])\n",
    "df1 = spark.createDataFrame(data,sc)  \n",
    "\n",
    "df1.printSchema()  # see the output "
   ]
  }
 ],
 "metadata": {
  "kernelspec": {
   "display_name": "Python 3",
   "language": "python",
   "name": "python3"
  },
  "language_info": {
   "codemirror_mode": {
    "name": "ipython",
    "version": 3
   },
   "file_extension": ".py",
   "mimetype": "text/x-python",
   "name": "python",
   "nbconvert_exporter": "python",
   "pygments_lexer": "ipython3",
   "version": "3.12.2"
  }
 },
 "nbformat": 4,
 "nbformat_minor": 2
}
